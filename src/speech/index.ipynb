{
 "cells": [
  {
   "cell_type": "markdown",
   "metadata": {},
   "source": [
    "# 语音信号特征\n",
    "\n",
    "- MFCC (Mel Frequency Cepstral Coefficents) 作为一种语音信号特征，目前仍然广泛应用于各种语音识别系统中\n",
    "- FBANK 则常用于 DNN 语音识别中，并具有比 MFCC 更优异的性能\n",
    "- 语谱图（Spectrogram）是一种非常直观的描述语音信号的方式。目前的语音信号处理基本都基于一个前提假设：语音信号是短时平稳的。因此，我们对语音信号的处理都是先分帧，以帧为单位来处理，语谱图的实现也不例外。首先将一段语音信号分帧，并对帧信号做 FFT计算其频谱；将所有的帧的灰度图连在一起，我们就会得到一个随着时间变化的频谱图，也就是就是描述语音信号的spectrogram声谱图。\n",
    "- 倒谱分析 (Cepstrum Analysis)： 语音信号可以看作是声门激励信号和声道冲激响应的卷积。将声门激励信号和声道冲激响应分离（即解卷积）出来单独分析对语音信号处理具有重要的意义。解卷积有两种方法，一种是线性预测分析，一种是同态分析。对语音信号进行同态分析，实现了将卷积关系变换为求和关系的分离处理，并且得到其倒谱参数，所以同态分析也称为倒谱分析。对于语音信号x(n)，它可以表示为两个信号的卷积：$x(n)=h(n) \\cdot e(n)$, 对其进行傅里叶变换得到$X(k)=H(k)E(k)$。将原始的频谱X(k)由两部分组成：包络H(k)（信号低频成分）和频谱的细节E(k)（信号的高频细节）。X(k)的峰值就表示语音的主要频率成分，这些峰值被称为共振峰（formants），它是语音信号处理中的一个重要特征，而包络就是一条连接这些共振峰点的平滑曲线，那该如何将其分离呢？我们对频域两边分别取对数：logX(k)=logH(k)+logE(k)然后再进行傅里叶反变换，从而可以得到x′(n)=h′(n)+e′(n)时域信号x‘(n)即为倒谱，它和原始的时域信号x(n)不一样，它将原始时域信号的卷积关系转化为了线性加关系，此时只需要将倒谱通过一个低通滤波器即可获得包络部分对应的时域信号h‘(n)。\n"
   ]
  },
  {
   "cell_type": "code",
   "execution_count": null,
   "metadata": {},
   "outputs": [],
   "source": []
  },
  {
   "cell_type": "markdown",
   "metadata": {},
   "source": []
  }
 ],
 "metadata": {
  "kernelspec": {
   "display_name": "Python 3",
   "language": "python",
   "name": "python3"
  },
  "language_info": {
   "codemirror_mode": {
    "name": "ipython",
    "version": 3
   },
   "file_extension": ".py",
   "mimetype": "text/x-python",
   "name": "python",
   "nbconvert_exporter": "python",
   "pygments_lexer": "ipython3",
   "version": "3.11.7"
  }
 },
 "nbformat": 4,
 "nbformat_minor": 2
}
